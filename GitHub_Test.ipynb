{
  "nbformat": 4,
  "nbformat_minor": 0,
  "metadata": {
    "colab": {
      "provenance": [],
      "authorship_tag": "ABX9TyM5G9+xkZTomfmPrpZz8ktL",
      "include_colab_link": true
    },
    "kernelspec": {
      "name": "python3",
      "display_name": "Python 3"
    },
    "language_info": {
      "name": "python"
    }
  },
  "cells": [
    {
      "cell_type": "markdown",
      "metadata": {
        "id": "view-in-github",
        "colab_type": "text"
      },
      "source": [
        "<a href=\"https://colab.research.google.com/github/yoshi-hagi/Colab2GitHub/blob/main/GitHub_Test.ipynb\" target=\"_parent\"><img src=\"https://colab.research.google.com/assets/colab-badge.svg\" alt=\"Open In Colab\"/></a>"
      ]
    },
    {
      "cell_type": "markdown",
      "source": [
        "1. GitHUbでレポジトリの作成。MarkDownファイルを追加すればmainブランチが作られる\n",
        "2. ファイルから「GitHubにコピーを保存」を選択、作成したレポジトリを選択\n",
        "3. レポジトリの方で、.github/workflows/***.ymlファイルを追加\n",
        "4. ymlファイルにコードを記入してコミット。jupyterとpapermillのインストールを記載\n",
        "5. コミットするとActionsが実行されるので、チェック"
      ],
      "metadata": {
        "id": "mOGULZ_pwZPi"
      }
    },
    {
      "cell_type": "code",
      "execution_count": null,
      "metadata": {
        "colab": {
          "base_uri": "https://localhost:8080/"
        },
        "id": "PamBQancmvl6",
        "outputId": "73aca599-dc84-4dab-b78f-c901c7b59c96"
      },
      "outputs": [
        {
          "output_type": "stream",
          "name": "stdout",
          "text": [
            "Hello, Google Colab!\n"
          ]
        }
      ],
      "source": [
        "print(\"Hello, Google Colab!\")"
      ]
    },
    {
      "cell_type": "code",
      "source": [
        "import pandas as pd\n",
        "import yfinance as yf\n",
        "\n",
        "df = yf.download('7203.T')\n",
        "\n",
        "df"
      ],
      "metadata": {
        "id": "N9TgBbH7Q_7e"
      },
      "execution_count": null,
      "outputs": []
    },
    {
      "cell_type": "code",
      "source": [
        "import os\n",
        "\n",
        "filename = os.path.join(os.getcwd(), 'Artifact', 'test.csv')\n",
        "df.to_csv(filename, encoding='shift-jis', errors=\"ignore\")"
      ],
      "metadata": {
        "id": "6YGZWPwxSVfp"
      },
      "execution_count": null,
      "outputs": []
    }
  ]
}