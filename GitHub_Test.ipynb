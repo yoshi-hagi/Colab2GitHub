{
  "nbformat": 4,
  "nbformat_minor": 0,
  "metadata": {
    "colab": {
      "provenance": [],
      "authorship_tag": "ABX9TyNCaRqGmfOqcyUEkPtxHDr9",
      "include_colab_link": true
    },
    "kernelspec": {
      "name": "python3",
      "display_name": "Python 3"
    },
    "language_info": {
      "name": "python"
    }
  },
  "cells": [
    {
      "cell_type": "markdown",
      "metadata": {
        "id": "view-in-github",
        "colab_type": "text"
      },
      "source": [
        "<a href=\"https://colab.research.google.com/github/yoshi-hagi/Colab2GitHub/blob/main/GitHub_Test.ipynb\" target=\"_parent\"><img src=\"https://colab.research.google.com/assets/colab-badge.svg\" alt=\"Open In Colab\"/></a>"
      ]
    },
    {
      "cell_type": "markdown",
      "source": [
        "1. GitHUbでレポジトリの作成。MarkDownファイルを追加すればmainブランチが作られる\n",
        "2. ファイルから「GitHubにコピーを保存」を選択、作成したレポジトリを選択\n",
        "3. レポジトリの方で、.github/workflows/***.ymlファイルを追加\n",
        "4. ymlファイルにコードを記入してコミット。jupyterとpapermillのインストールを記載\n",
        "5. コミットするとActionsが実行されるので、チェック"
      ],
      "metadata": {
        "id": "mOGULZ_pwZPi"
      }
    },
    {
      "cell_type": "code",
      "execution_count": null,
      "metadata": {
        "colab": {
          "base_uri": "https://localhost:8080/"
        },
        "id": "PamBQancmvl6",
        "outputId": "73aca599-dc84-4dab-b78f-c901c7b59c96"
      },
      "outputs": [
        {
          "output_type": "stream",
          "name": "stdout",
          "text": [
            "Hello, Google Colab!\n"
          ]
        }
      ],
      "source": [
        "print(\"Hello, Google Colab!\")"
      ]
    }
  ]
}